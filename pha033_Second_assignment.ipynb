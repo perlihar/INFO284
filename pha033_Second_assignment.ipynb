{
  "nbformat": 4,
  "nbformat_minor": 0,
  "metadata": {
    "colab": {
      "name": "Untitled8.ipynb",
      "provenance": [],
      "collapsed_sections": [],
      "authorship_tag": "ABX9TyNBcro7wyAIyjU0EErYVcVx",
      "include_colab_link": true
    },
    "kernelspec": {
      "name": "python3",
      "display_name": "Python 3"
    },
    "widgets": {
      "application/vnd.jupyter.widget-state+json": {
        "69feb0ead57b4fe6a1dea198f578cdee": {
          "model_module": "@jupyter-widgets/controls",
          "model_name": "HBoxModel",
          "state": {
            "_view_name": "HBoxView",
            "_dom_classes": [],
            "_model_name": "HBoxModel",
            "_view_module": "@jupyter-widgets/controls",
            "_model_module_version": "1.5.0",
            "_view_count": null,
            "_view_module_version": "1.5.0",
            "box_style": "",
            "layout": "IPY_MODEL_3dccace8b9d74bb79afd1ed50eb051ad",
            "_model_module": "@jupyter-widgets/controls",
            "children": [
              "IPY_MODEL_dc0162747b5f40e7918f252c242c2986",
              "IPY_MODEL_51fab5892a024bc6ac85bc5fd0e0838b"
            ]
          }
        },
        "3dccace8b9d74bb79afd1ed50eb051ad": {
          "model_module": "@jupyter-widgets/base",
          "model_name": "LayoutModel",
          "state": {
            "_view_name": "LayoutView",
            "grid_template_rows": null,
            "right": null,
            "justify_content": null,
            "_view_module": "@jupyter-widgets/base",
            "overflow": null,
            "_model_module_version": "1.2.0",
            "_view_count": null,
            "flex_flow": null,
            "width": null,
            "min_width": null,
            "border": null,
            "align_items": null,
            "bottom": null,
            "_model_module": "@jupyter-widgets/base",
            "top": null,
            "grid_column": null,
            "overflow_y": null,
            "overflow_x": null,
            "grid_auto_flow": null,
            "grid_area": null,
            "grid_template_columns": null,
            "flex": null,
            "_model_name": "LayoutModel",
            "justify_items": null,
            "grid_row": null,
            "max_height": null,
            "align_content": null,
            "visibility": null,
            "align_self": null,
            "height": null,
            "min_height": null,
            "padding": null,
            "grid_auto_rows": null,
            "grid_gap": null,
            "max_width": null,
            "order": null,
            "_view_module_version": "1.2.0",
            "grid_template_areas": null,
            "object_position": null,
            "object_fit": null,
            "grid_auto_columns": null,
            "margin": null,
            "display": null,
            "left": null
          }
        },
        "dc0162747b5f40e7918f252c242c2986": {
          "model_module": "@jupyter-widgets/controls",
          "model_name": "IntProgressModel",
          "state": {
            "_view_name": "ProgressView",
            "style": "IPY_MODEL_1acfd0cc59614fc89fafabacda993c7b",
            "_dom_classes": [],
            "description": "",
            "_model_name": "IntProgressModel",
            "bar_style": "info",
            "max": 1,
            "_view_module": "@jupyter-widgets/controls",
            "_model_module_version": "1.5.0",
            "value": 1,
            "_view_count": null,
            "_view_module_version": "1.5.0",
            "orientation": "horizontal",
            "min": 0,
            "description_tooltip": null,
            "_model_module": "@jupyter-widgets/controls",
            "layout": "IPY_MODEL_f68bde9374404580910e8f1ecbf5d23c"
          }
        },
        "51fab5892a024bc6ac85bc5fd0e0838b": {
          "model_module": "@jupyter-widgets/controls",
          "model_name": "HTMLModel",
          "state": {
            "_view_name": "HTMLView",
            "style": "IPY_MODEL_d799f3459afa440cb88f1bef7b0b7095",
            "_dom_classes": [],
            "description": "",
            "_model_name": "HTMLModel",
            "placeholder": "​",
            "_view_module": "@jupyter-widgets/controls",
            "_model_module_version": "1.5.0",
            "value": " 26427392/? [00:20&lt;00:00, 3650676.11it/s]",
            "_view_count": null,
            "_view_module_version": "1.5.0",
            "description_tooltip": null,
            "_model_module": "@jupyter-widgets/controls",
            "layout": "IPY_MODEL_11cdbd2458a74c9fa8626837a1b70823"
          }
        },
        "1acfd0cc59614fc89fafabacda993c7b": {
          "model_module": "@jupyter-widgets/controls",
          "model_name": "ProgressStyleModel",
          "state": {
            "_view_name": "StyleView",
            "_model_name": "ProgressStyleModel",
            "description_width": "initial",
            "_view_module": "@jupyter-widgets/base",
            "_model_module_version": "1.5.0",
            "_view_count": null,
            "_view_module_version": "1.2.0",
            "bar_color": null,
            "_model_module": "@jupyter-widgets/controls"
          }
        },
        "f68bde9374404580910e8f1ecbf5d23c": {
          "model_module": "@jupyter-widgets/base",
          "model_name": "LayoutModel",
          "state": {
            "_view_name": "LayoutView",
            "grid_template_rows": null,
            "right": null,
            "justify_content": null,
            "_view_module": "@jupyter-widgets/base",
            "overflow": null,
            "_model_module_version": "1.2.0",
            "_view_count": null,
            "flex_flow": null,
            "width": null,
            "min_width": null,
            "border": null,
            "align_items": null,
            "bottom": null,
            "_model_module": "@jupyter-widgets/base",
            "top": null,
            "grid_column": null,
            "overflow_y": null,
            "overflow_x": null,
            "grid_auto_flow": null,
            "grid_area": null,
            "grid_template_columns": null,
            "flex": null,
            "_model_name": "LayoutModel",
            "justify_items": null,
            "grid_row": null,
            "max_height": null,
            "align_content": null,
            "visibility": null,
            "align_self": null,
            "height": null,
            "min_height": null,
            "padding": null,
            "grid_auto_rows": null,
            "grid_gap": null,
            "max_width": null,
            "order": null,
            "_view_module_version": "1.2.0",
            "grid_template_areas": null,
            "object_position": null,
            "object_fit": null,
            "grid_auto_columns": null,
            "margin": null,
            "display": null,
            "left": null
          }
        },
        "d799f3459afa440cb88f1bef7b0b7095": {
          "model_module": "@jupyter-widgets/controls",
          "model_name": "DescriptionStyleModel",
          "state": {
            "_view_name": "StyleView",
            "_model_name": "DescriptionStyleModel",
            "description_width": "",
            "_view_module": "@jupyter-widgets/base",
            "_model_module_version": "1.5.0",
            "_view_count": null,
            "_view_module_version": "1.2.0",
            "_model_module": "@jupyter-widgets/controls"
          }
        },
        "11cdbd2458a74c9fa8626837a1b70823": {
          "model_module": "@jupyter-widgets/base",
          "model_name": "LayoutModel",
          "state": {
            "_view_name": "LayoutView",
            "grid_template_rows": null,
            "right": null,
            "justify_content": null,
            "_view_module": "@jupyter-widgets/base",
            "overflow": null,
            "_model_module_version": "1.2.0",
            "_view_count": null,
            "flex_flow": null,
            "width": null,
            "min_width": null,
            "border": null,
            "align_items": null,
            "bottom": null,
            "_model_module": "@jupyter-widgets/base",
            "top": null,
            "grid_column": null,
            "overflow_y": null,
            "overflow_x": null,
            "grid_auto_flow": null,
            "grid_area": null,
            "grid_template_columns": null,
            "flex": null,
            "_model_name": "LayoutModel",
            "justify_items": null,
            "grid_row": null,
            "max_height": null,
            "align_content": null,
            "visibility": null,
            "align_self": null,
            "height": null,
            "min_height": null,
            "padding": null,
            "grid_auto_rows": null,
            "grid_gap": null,
            "max_width": null,
            "order": null,
            "_view_module_version": "1.2.0",
            "grid_template_areas": null,
            "object_position": null,
            "object_fit": null,
            "grid_auto_columns": null,
            "margin": null,
            "display": null,
            "left": null
          }
        },
        "bc19a8b93d85425da21b4e7b90d358c9": {
          "model_module": "@jupyter-widgets/controls",
          "model_name": "HBoxModel",
          "state": {
            "_view_name": "HBoxView",
            "_dom_classes": [],
            "_model_name": "HBoxModel",
            "_view_module": "@jupyter-widgets/controls",
            "_model_module_version": "1.5.0",
            "_view_count": null,
            "_view_module_version": "1.5.0",
            "box_style": "",
            "layout": "IPY_MODEL_faa8c8886c9e4bf3846946306e91d2c6",
            "_model_module": "@jupyter-widgets/controls",
            "children": [
              "IPY_MODEL_1900f85ae14444169a87effc98d8131e",
              "IPY_MODEL_38f9ac30e5fa4fed9a9419c86043f814"
            ]
          }
        },
        "faa8c8886c9e4bf3846946306e91d2c6": {
          "model_module": "@jupyter-widgets/base",
          "model_name": "LayoutModel",
          "state": {
            "_view_name": "LayoutView",
            "grid_template_rows": null,
            "right": null,
            "justify_content": null,
            "_view_module": "@jupyter-widgets/base",
            "overflow": null,
            "_model_module_version": "1.2.0",
            "_view_count": null,
            "flex_flow": null,
            "width": null,
            "min_width": null,
            "border": null,
            "align_items": null,
            "bottom": null,
            "_model_module": "@jupyter-widgets/base",
            "top": null,
            "grid_column": null,
            "overflow_y": null,
            "overflow_x": null,
            "grid_auto_flow": null,
            "grid_area": null,
            "grid_template_columns": null,
            "flex": null,
            "_model_name": "LayoutModel",
            "justify_items": null,
            "grid_row": null,
            "max_height": null,
            "align_content": null,
            "visibility": null,
            "align_self": null,
            "height": null,
            "min_height": null,
            "padding": null,
            "grid_auto_rows": null,
            "grid_gap": null,
            "max_width": null,
            "order": null,
            "_view_module_version": "1.2.0",
            "grid_template_areas": null,
            "object_position": null,
            "object_fit": null,
            "grid_auto_columns": null,
            "margin": null,
            "display": null,
            "left": null
          }
        },
        "1900f85ae14444169a87effc98d8131e": {
          "model_module": "@jupyter-widgets/controls",
          "model_name": "IntProgressModel",
          "state": {
            "_view_name": "ProgressView",
            "style": "IPY_MODEL_6a96e6fd94d740dc9cc18c649a040b8a",
            "_dom_classes": [],
            "description": "",
            "_model_name": "IntProgressModel",
            "bar_style": "success",
            "max": 1,
            "_view_module": "@jupyter-widgets/controls",
            "_model_module_version": "1.5.0",
            "value": 1,
            "_view_count": null,
            "_view_module_version": "1.5.0",
            "orientation": "horizontal",
            "min": 0,
            "description_tooltip": null,
            "_model_module": "@jupyter-widgets/controls",
            "layout": "IPY_MODEL_5d21f38d603c4c8fa831988594d8163a"
          }
        },
        "38f9ac30e5fa4fed9a9419c86043f814": {
          "model_module": "@jupyter-widgets/controls",
          "model_name": "HTMLModel",
          "state": {
            "_view_name": "HTMLView",
            "style": "IPY_MODEL_a899eb597ac94d56a2cd7d1d6aa0b9a4",
            "_dom_classes": [],
            "description": "",
            "_model_name": "HTMLModel",
            "placeholder": "​",
            "_view_module": "@jupyter-widgets/controls",
            "_model_module_version": "1.5.0",
            "value": " 32768/? [00:03&lt;00:00, 8977.91it/s]",
            "_view_count": null,
            "_view_module_version": "1.5.0",
            "description_tooltip": null,
            "_model_module": "@jupyter-widgets/controls",
            "layout": "IPY_MODEL_7a866fba4add40e99162ed0c23966588"
          }
        },
        "6a96e6fd94d740dc9cc18c649a040b8a": {
          "model_module": "@jupyter-widgets/controls",
          "model_name": "ProgressStyleModel",
          "state": {
            "_view_name": "StyleView",
            "_model_name": "ProgressStyleModel",
            "description_width": "initial",
            "_view_module": "@jupyter-widgets/base",
            "_model_module_version": "1.5.0",
            "_view_count": null,
            "_view_module_version": "1.2.0",
            "bar_color": null,
            "_model_module": "@jupyter-widgets/controls"
          }
        },
        "5d21f38d603c4c8fa831988594d8163a": {
          "model_module": "@jupyter-widgets/base",
          "model_name": "LayoutModel",
          "state": {
            "_view_name": "LayoutView",
            "grid_template_rows": null,
            "right": null,
            "justify_content": null,
            "_view_module": "@jupyter-widgets/base",
            "overflow": null,
            "_model_module_version": "1.2.0",
            "_view_count": null,
            "flex_flow": null,
            "width": null,
            "min_width": null,
            "border": null,
            "align_items": null,
            "bottom": null,
            "_model_module": "@jupyter-widgets/base",
            "top": null,
            "grid_column": null,
            "overflow_y": null,
            "overflow_x": null,
            "grid_auto_flow": null,
            "grid_area": null,
            "grid_template_columns": null,
            "flex": null,
            "_model_name": "LayoutModel",
            "justify_items": null,
            "grid_row": null,
            "max_height": null,
            "align_content": null,
            "visibility": null,
            "align_self": null,
            "height": null,
            "min_height": null,
            "padding": null,
            "grid_auto_rows": null,
            "grid_gap": null,
            "max_width": null,
            "order": null,
            "_view_module_version": "1.2.0",
            "grid_template_areas": null,
            "object_position": null,
            "object_fit": null,
            "grid_auto_columns": null,
            "margin": null,
            "display": null,
            "left": null
          }
        },
        "a899eb597ac94d56a2cd7d1d6aa0b9a4": {
          "model_module": "@jupyter-widgets/controls",
          "model_name": "DescriptionStyleModel",
          "state": {
            "_view_name": "StyleView",
            "_model_name": "DescriptionStyleModel",
            "description_width": "",
            "_view_module": "@jupyter-widgets/base",
            "_model_module_version": "1.5.0",
            "_view_count": null,
            "_view_module_version": "1.2.0",
            "_model_module": "@jupyter-widgets/controls"
          }
        },
        "7a866fba4add40e99162ed0c23966588": {
          "model_module": "@jupyter-widgets/base",
          "model_name": "LayoutModel",
          "state": {
            "_view_name": "LayoutView",
            "grid_template_rows": null,
            "right": null,
            "justify_content": null,
            "_view_module": "@jupyter-widgets/base",
            "overflow": null,
            "_model_module_version": "1.2.0",
            "_view_count": null,
            "flex_flow": null,
            "width": null,
            "min_width": null,
            "border": null,
            "align_items": null,
            "bottom": null,
            "_model_module": "@jupyter-widgets/base",
            "top": null,
            "grid_column": null,
            "overflow_y": null,
            "overflow_x": null,
            "grid_auto_flow": null,
            "grid_area": null,
            "grid_template_columns": null,
            "flex": null,
            "_model_name": "LayoutModel",
            "justify_items": null,
            "grid_row": null,
            "max_height": null,
            "align_content": null,
            "visibility": null,
            "align_self": null,
            "height": null,
            "min_height": null,
            "padding": null,
            "grid_auto_rows": null,
            "grid_gap": null,
            "max_width": null,
            "order": null,
            "_view_module_version": "1.2.0",
            "grid_template_areas": null,
            "object_position": null,
            "object_fit": null,
            "grid_auto_columns": null,
            "margin": null,
            "display": null,
            "left": null
          }
        },
        "9a9e3958c2d740ceb4742f0620807b1f": {
          "model_module": "@jupyter-widgets/controls",
          "model_name": "HBoxModel",
          "state": {
            "_view_name": "HBoxView",
            "_dom_classes": [],
            "_model_name": "HBoxModel",
            "_view_module": "@jupyter-widgets/controls",
            "_model_module_version": "1.5.0",
            "_view_count": null,
            "_view_module_version": "1.5.0",
            "box_style": "",
            "layout": "IPY_MODEL_e0d31c6119fa4938b8cfaf82c6bb251b",
            "_model_module": "@jupyter-widgets/controls",
            "children": [
              "IPY_MODEL_7d37a982fe87431ab0eebfb3ca5c6377",
              "IPY_MODEL_fa977db36ea84604a595d5b5655dc41a"
            ]
          }
        },
        "e0d31c6119fa4938b8cfaf82c6bb251b": {
          "model_module": "@jupyter-widgets/base",
          "model_name": "LayoutModel",
          "state": {
            "_view_name": "LayoutView",
            "grid_template_rows": null,
            "right": null,
            "justify_content": null,
            "_view_module": "@jupyter-widgets/base",
            "overflow": null,
            "_model_module_version": "1.2.0",
            "_view_count": null,
            "flex_flow": null,
            "width": null,
            "min_width": null,
            "border": null,
            "align_items": null,
            "bottom": null,
            "_model_module": "@jupyter-widgets/base",
            "top": null,
            "grid_column": null,
            "overflow_y": null,
            "overflow_x": null,
            "grid_auto_flow": null,
            "grid_area": null,
            "grid_template_columns": null,
            "flex": null,
            "_model_name": "LayoutModel",
            "justify_items": null,
            "grid_row": null,
            "max_height": null,
            "align_content": null,
            "visibility": null,
            "align_self": null,
            "height": null,
            "min_height": null,
            "padding": null,
            "grid_auto_rows": null,
            "grid_gap": null,
            "max_width": null,
            "order": null,
            "_view_module_version": "1.2.0",
            "grid_template_areas": null,
            "object_position": null,
            "object_fit": null,
            "grid_auto_columns": null,
            "margin": null,
            "display": null,
            "left": null
          }
        },
        "7d37a982fe87431ab0eebfb3ca5c6377": {
          "model_module": "@jupyter-widgets/controls",
          "model_name": "IntProgressModel",
          "state": {
            "_view_name": "ProgressView",
            "style": "IPY_MODEL_1214eb33952a4c9ba40010e12105adb2",
            "_dom_classes": [],
            "description": "",
            "_model_name": "IntProgressModel",
            "bar_style": "success",
            "max": 1,
            "_view_module": "@jupyter-widgets/controls",
            "_model_module_version": "1.5.0",
            "value": 1,
            "_view_count": null,
            "_view_module_version": "1.5.0",
            "orientation": "horizontal",
            "min": 0,
            "description_tooltip": null,
            "_model_module": "@jupyter-widgets/controls",
            "layout": "IPY_MODEL_c8a871c0d8b84ec59cd69b2fa0b1f614"
          }
        },
        "fa977db36ea84604a595d5b5655dc41a": {
          "model_module": "@jupyter-widgets/controls",
          "model_name": "HTMLModel",
          "state": {
            "_view_name": "HTMLView",
            "style": "IPY_MODEL_f01004b46e264269830d360070425285",
            "_dom_classes": [],
            "description": "",
            "_model_name": "HTMLModel",
            "placeholder": "​",
            "_view_module": "@jupyter-widgets/controls",
            "_model_module_version": "1.5.0",
            "value": " 4423680/? [00:02&lt;00:00, 1598207.21it/s]",
            "_view_count": null,
            "_view_module_version": "1.5.0",
            "description_tooltip": null,
            "_model_module": "@jupyter-widgets/controls",
            "layout": "IPY_MODEL_e01952f8ee6f48759ec7740556a7680b"
          }
        },
        "1214eb33952a4c9ba40010e12105adb2": {
          "model_module": "@jupyter-widgets/controls",
          "model_name": "ProgressStyleModel",
          "state": {
            "_view_name": "StyleView",
            "_model_name": "ProgressStyleModel",
            "description_width": "initial",
            "_view_module": "@jupyter-widgets/base",
            "_model_module_version": "1.5.0",
            "_view_count": null,
            "_view_module_version": "1.2.0",
            "bar_color": null,
            "_model_module": "@jupyter-widgets/controls"
          }
        },
        "c8a871c0d8b84ec59cd69b2fa0b1f614": {
          "model_module": "@jupyter-widgets/base",
          "model_name": "LayoutModel",
          "state": {
            "_view_name": "LayoutView",
            "grid_template_rows": null,
            "right": null,
            "justify_content": null,
            "_view_module": "@jupyter-widgets/base",
            "overflow": null,
            "_model_module_version": "1.2.0",
            "_view_count": null,
            "flex_flow": null,
            "width": null,
            "min_width": null,
            "border": null,
            "align_items": null,
            "bottom": null,
            "_model_module": "@jupyter-widgets/base",
            "top": null,
            "grid_column": null,
            "overflow_y": null,
            "overflow_x": null,
            "grid_auto_flow": null,
            "grid_area": null,
            "grid_template_columns": null,
            "flex": null,
            "_model_name": "LayoutModel",
            "justify_items": null,
            "grid_row": null,
            "max_height": null,
            "align_content": null,
            "visibility": null,
            "align_self": null,
            "height": null,
            "min_height": null,
            "padding": null,
            "grid_auto_rows": null,
            "grid_gap": null,
            "max_width": null,
            "order": null,
            "_view_module_version": "1.2.0",
            "grid_template_areas": null,
            "object_position": null,
            "object_fit": null,
            "grid_auto_columns": null,
            "margin": null,
            "display": null,
            "left": null
          }
        },
        "f01004b46e264269830d360070425285": {
          "model_module": "@jupyter-widgets/controls",
          "model_name": "DescriptionStyleModel",
          "state": {
            "_view_name": "StyleView",
            "_model_name": "DescriptionStyleModel",
            "description_width": "",
            "_view_module": "@jupyter-widgets/base",
            "_model_module_version": "1.5.0",
            "_view_count": null,
            "_view_module_version": "1.2.0",
            "_model_module": "@jupyter-widgets/controls"
          }
        },
        "e01952f8ee6f48759ec7740556a7680b": {
          "model_module": "@jupyter-widgets/base",
          "model_name": "LayoutModel",
          "state": {
            "_view_name": "LayoutView",
            "grid_template_rows": null,
            "right": null,
            "justify_content": null,
            "_view_module": "@jupyter-widgets/base",
            "overflow": null,
            "_model_module_version": "1.2.0",
            "_view_count": null,
            "flex_flow": null,
            "width": null,
            "min_width": null,
            "border": null,
            "align_items": null,
            "bottom": null,
            "_model_module": "@jupyter-widgets/base",
            "top": null,
            "grid_column": null,
            "overflow_y": null,
            "overflow_x": null,
            "grid_auto_flow": null,
            "grid_area": null,
            "grid_template_columns": null,
            "flex": null,
            "_model_name": "LayoutModel",
            "justify_items": null,
            "grid_row": null,
            "max_height": null,
            "align_content": null,
            "visibility": null,
            "align_self": null,
            "height": null,
            "min_height": null,
            "padding": null,
            "grid_auto_rows": null,
            "grid_gap": null,
            "max_width": null,
            "order": null,
            "_view_module_version": "1.2.0",
            "grid_template_areas": null,
            "object_position": null,
            "object_fit": null,
            "grid_auto_columns": null,
            "margin": null,
            "display": null,
            "left": null
          }
        },
        "b430b2b2a4c54c8ebeca3b9058012094": {
          "model_module": "@jupyter-widgets/controls",
          "model_name": "HBoxModel",
          "state": {
            "_view_name": "HBoxView",
            "_dom_classes": [],
            "_model_name": "HBoxModel",
            "_view_module": "@jupyter-widgets/controls",
            "_model_module_version": "1.5.0",
            "_view_count": null,
            "_view_module_version": "1.5.0",
            "box_style": "",
            "layout": "IPY_MODEL_60433c862a3b4110849394ef0d2f0a0d",
            "_model_module": "@jupyter-widgets/controls",
            "children": [
              "IPY_MODEL_cef860a69e8344da82f473c5515478c3",
              "IPY_MODEL_bddf44508bae41cc96fbe271c32b9681"
            ]
          }
        },
        "60433c862a3b4110849394ef0d2f0a0d": {
          "model_module": "@jupyter-widgets/base",
          "model_name": "LayoutModel",
          "state": {
            "_view_name": "LayoutView",
            "grid_template_rows": null,
            "right": null,
            "justify_content": null,
            "_view_module": "@jupyter-widgets/base",
            "overflow": null,
            "_model_module_version": "1.2.0",
            "_view_count": null,
            "flex_flow": null,
            "width": null,
            "min_width": null,
            "border": null,
            "align_items": null,
            "bottom": null,
            "_model_module": "@jupyter-widgets/base",
            "top": null,
            "grid_column": null,
            "overflow_y": null,
            "overflow_x": null,
            "grid_auto_flow": null,
            "grid_area": null,
            "grid_template_columns": null,
            "flex": null,
            "_model_name": "LayoutModel",
            "justify_items": null,
            "grid_row": null,
            "max_height": null,
            "align_content": null,
            "visibility": null,
            "align_self": null,
            "height": null,
            "min_height": null,
            "padding": null,
            "grid_auto_rows": null,
            "grid_gap": null,
            "max_width": null,
            "order": null,
            "_view_module_version": "1.2.0",
            "grid_template_areas": null,
            "object_position": null,
            "object_fit": null,
            "grid_auto_columns": null,
            "margin": null,
            "display": null,
            "left": null
          }
        },
        "cef860a69e8344da82f473c5515478c3": {
          "model_module": "@jupyter-widgets/controls",
          "model_name": "IntProgressModel",
          "state": {
            "_view_name": "ProgressView",
            "style": "IPY_MODEL_3a276ca4f4834ff18998b1f1d06abc55",
            "_dom_classes": [],
            "description": "  0%",
            "_model_name": "IntProgressModel",
            "bar_style": "info",
            "max": 1,
            "_view_module": "@jupyter-widgets/controls",
            "_model_module_version": "1.5.0",
            "value": 0,
            "_view_count": null,
            "_view_module_version": "1.5.0",
            "orientation": "horizontal",
            "min": 0,
            "description_tooltip": null,
            "_model_module": "@jupyter-widgets/controls",
            "layout": "IPY_MODEL_43d2bd534fa044c195bbd122051f683f"
          }
        },
        "bddf44508bae41cc96fbe271c32b9681": {
          "model_module": "@jupyter-widgets/controls",
          "model_name": "HTMLModel",
          "state": {
            "_view_name": "HTMLView",
            "style": "IPY_MODEL_29b6eb6e98934e6dacc265c82acaa310",
            "_dom_classes": [],
            "description": "",
            "_model_name": "HTMLModel",
            "placeholder": "​",
            "_view_module": "@jupyter-widgets/controls",
            "_model_module_version": "1.5.0",
            "value": " 0/5148 [00:00&lt;?, ?it/s]",
            "_view_count": null,
            "_view_module_version": "1.5.0",
            "description_tooltip": null,
            "_model_module": "@jupyter-widgets/controls",
            "layout": "IPY_MODEL_56b58ead21c940eb8369de7db8cd9e10"
          }
        },
        "3a276ca4f4834ff18998b1f1d06abc55": {
          "model_module": "@jupyter-widgets/controls",
          "model_name": "ProgressStyleModel",
          "state": {
            "_view_name": "StyleView",
            "_model_name": "ProgressStyleModel",
            "description_width": "initial",
            "_view_module": "@jupyter-widgets/base",
            "_model_module_version": "1.5.0",
            "_view_count": null,
            "_view_module_version": "1.2.0",
            "bar_color": null,
            "_model_module": "@jupyter-widgets/controls"
          }
        },
        "43d2bd534fa044c195bbd122051f683f": {
          "model_module": "@jupyter-widgets/base",
          "model_name": "LayoutModel",
          "state": {
            "_view_name": "LayoutView",
            "grid_template_rows": null,
            "right": null,
            "justify_content": null,
            "_view_module": "@jupyter-widgets/base",
            "overflow": null,
            "_model_module_version": "1.2.0",
            "_view_count": null,
            "flex_flow": null,
            "width": null,
            "min_width": null,
            "border": null,
            "align_items": null,
            "bottom": null,
            "_model_module": "@jupyter-widgets/base",
            "top": null,
            "grid_column": null,
            "overflow_y": null,
            "overflow_x": null,
            "grid_auto_flow": null,
            "grid_area": null,
            "grid_template_columns": null,
            "flex": null,
            "_model_name": "LayoutModel",
            "justify_items": null,
            "grid_row": null,
            "max_height": null,
            "align_content": null,
            "visibility": null,
            "align_self": null,
            "height": null,
            "min_height": null,
            "padding": null,
            "grid_auto_rows": null,
            "grid_gap": null,
            "max_width": null,
            "order": null,
            "_view_module_version": "1.2.0",
            "grid_template_areas": null,
            "object_position": null,
            "object_fit": null,
            "grid_auto_columns": null,
            "margin": null,
            "display": null,
            "left": null
          }
        },
        "29b6eb6e98934e6dacc265c82acaa310": {
          "model_module": "@jupyter-widgets/controls",
          "model_name": "DescriptionStyleModel",
          "state": {
            "_view_name": "StyleView",
            "_model_name": "DescriptionStyleModel",
            "description_width": "",
            "_view_module": "@jupyter-widgets/base",
            "_model_module_version": "1.5.0",
            "_view_count": null,
            "_view_module_version": "1.2.0",
            "_model_module": "@jupyter-widgets/controls"
          }
        },
        "56b58ead21c940eb8369de7db8cd9e10": {
          "model_module": "@jupyter-widgets/base",
          "model_name": "LayoutModel",
          "state": {
            "_view_name": "LayoutView",
            "grid_template_rows": null,
            "right": null,
            "justify_content": null,
            "_view_module": "@jupyter-widgets/base",
            "overflow": null,
            "_model_module_version": "1.2.0",
            "_view_count": null,
            "flex_flow": null,
            "width": null,
            "min_width": null,
            "border": null,
            "align_items": null,
            "bottom": null,
            "_model_module": "@jupyter-widgets/base",
            "top": null,
            "grid_column": null,
            "overflow_y": null,
            "overflow_x": null,
            "grid_auto_flow": null,
            "grid_area": null,
            "grid_template_columns": null,
            "flex": null,
            "_model_name": "LayoutModel",
            "justify_items": null,
            "grid_row": null,
            "max_height": null,
            "align_content": null,
            "visibility": null,
            "align_self": null,
            "height": null,
            "min_height": null,
            "padding": null,
            "grid_auto_rows": null,
            "grid_gap": null,
            "max_width": null,
            "order": null,
            "_view_module_version": "1.2.0",
            "grid_template_areas": null,
            "object_position": null,
            "object_fit": null,
            "grid_auto_columns": null,
            "margin": null,
            "display": null,
            "left": null
          }
        }
      }
    }
  },
  "cells": [
    {
      "cell_type": "markdown",
      "metadata": {
        "id": "view-in-github",
        "colab_type": "text"
      },
      "source": [
        "<a href=\"https://colab.research.google.com/github/perlihar/INFO284/blob/master/pha033_Second_assignment.ipynb\" target=\"_parent\"><img src=\"https://colab.research.google.com/assets/colab-badge.svg\" alt=\"Open In Colab\"/></a>"
      ]
    },
    {
      "cell_type": "code",
      "metadata": {
        "id": "rkkM4Bjx1kFI",
        "colab_type": "code",
        "colab": {}
      },
      "source": [
        "import torch\n",
        "import torch.nn as nn\n",
        "import torch.nn.functional as F\n",
        "import torchvision\n",
        "import torchvision.transforms as transforms\n",
        "from sklearn.metrics import confusion_matrix\n",
        "from torch.autograd import Variable\n",
        "from itertools import chain \n",
        "import sklearn.metrics as metrics\n",
        "import matplotlib.pyplot as plt"
      ],
      "execution_count": 0,
      "outputs": []
    },
    {
      "cell_type": "code",
      "metadata": {
        "id": "YgjdKx1U1qCs",
        "colab_type": "code",
        "colab": {}
      },
      "source": [
        "# check if CUDA is available\n",
        "use_cuda = torch.cuda.is_available()"
      ],
      "execution_count": 0,
      "outputs": []
    },
    {
      "cell_type": "code",
      "metadata": {
        "id": "vSbldyMnQHNi",
        "colab_type": "code",
        "colab": {
          "base_uri": "https://localhost:8080/",
          "height": 367,
          "referenced_widgets": [
            "69feb0ead57b4fe6a1dea198f578cdee",
            "3dccace8b9d74bb79afd1ed50eb051ad",
            "dc0162747b5f40e7918f252c242c2986",
            "51fab5892a024bc6ac85bc5fd0e0838b",
            "1acfd0cc59614fc89fafabacda993c7b",
            "f68bde9374404580910e8f1ecbf5d23c",
            "d799f3459afa440cb88f1bef7b0b7095",
            "11cdbd2458a74c9fa8626837a1b70823",
            "bc19a8b93d85425da21b4e7b90d358c9",
            "faa8c8886c9e4bf3846946306e91d2c6",
            "1900f85ae14444169a87effc98d8131e",
            "38f9ac30e5fa4fed9a9419c86043f814",
            "6a96e6fd94d740dc9cc18c649a040b8a",
            "5d21f38d603c4c8fa831988594d8163a",
            "a899eb597ac94d56a2cd7d1d6aa0b9a4",
            "7a866fba4add40e99162ed0c23966588",
            "9a9e3958c2d740ceb4742f0620807b1f",
            "e0d31c6119fa4938b8cfaf82c6bb251b",
            "7d37a982fe87431ab0eebfb3ca5c6377",
            "fa977db36ea84604a595d5b5655dc41a",
            "1214eb33952a4c9ba40010e12105adb2",
            "c8a871c0d8b84ec59cd69b2fa0b1f614",
            "f01004b46e264269830d360070425285",
            "e01952f8ee6f48759ec7740556a7680b",
            "b430b2b2a4c54c8ebeca3b9058012094",
            "60433c862a3b4110849394ef0d2f0a0d",
            "cef860a69e8344da82f473c5515478c3",
            "bddf44508bae41cc96fbe271c32b9681",
            "3a276ca4f4834ff18998b1f1d06abc55",
            "43d2bd534fa044c195bbd122051f683f",
            "29b6eb6e98934e6dacc265c82acaa310",
            "56b58ead21c940eb8369de7db8cd9e10"
          ]
        },
        "outputId": "f31b4d62-902a-4cfb-df64-af0b7e6d6aa9"
      },
      "source": [
        "BATCH_SIZE = 100\n",
        "train_set = torchvision.datasets.FashionMNIST(\"./data\", download=True, transform=\n",
        "                                                transforms.Compose([transforms.ToTensor()]))\n",
        "test_set = torchvision.datasets.FashionMNIST(\"./data\", download=True, train=False, transform=\n",
        "                                               transforms.Compose([transforms.ToTensor()]))\n",
        "trainloader = torch.utils.data.DataLoader(train_set, \n",
        "                                           batch_size=BATCH_SIZE)\n",
        "testloader = torch.utils.data.DataLoader(test_set,\n",
        "                                          batch_size=BATCH_SIZE)"
      ],
      "execution_count": 2,
      "outputs": [
        {
          "output_type": "stream",
          "text": [
            "Downloading http://fashion-mnist.s3-website.eu-central-1.amazonaws.com/train-images-idx3-ubyte.gz to ./data/FashionMNIST/raw/train-images-idx3-ubyte.gz\n"
          ],
          "name": "stdout"
        },
        {
          "output_type": "display_data",
          "data": {
            "application/vnd.jupyter.widget-view+json": {
              "model_id": "69feb0ead57b4fe6a1dea198f578cdee",
              "version_minor": 0,
              "version_major": 2
            },
            "text/plain": [
              "HBox(children=(IntProgress(value=1, bar_style='info', max=1), HTML(value='')))"
            ]
          },
          "metadata": {
            "tags": []
          }
        },
        {
          "output_type": "stream",
          "text": [
            "Extracting ./data/FashionMNIST/raw/train-images-idx3-ubyte.gz to ./data/FashionMNIST/raw\n",
            "Downloading http://fashion-mnist.s3-website.eu-central-1.amazonaws.com/train-labels-idx1-ubyte.gz to ./data/FashionMNIST/raw/train-labels-idx1-ubyte.gz\n"
          ],
          "name": "stdout"
        },
        {
          "output_type": "display_data",
          "data": {
            "application/vnd.jupyter.widget-view+json": {
              "model_id": "bc19a8b93d85425da21b4e7b90d358c9",
              "version_minor": 0,
              "version_major": 2
            },
            "text/plain": [
              "HBox(children=(IntProgress(value=1, bar_style='info', max=1), HTML(value='')))"
            ]
          },
          "metadata": {
            "tags": []
          }
        },
        {
          "output_type": "stream",
          "text": [
            "Extracting ./data/FashionMNIST/raw/train-labels-idx1-ubyte.gz to ./data/FashionMNIST/raw\n",
            "Downloading http://fashion-mnist.s3-website.eu-central-1.amazonaws.com/t10k-images-idx3-ubyte.gz to ./data/FashionMNIST/raw/t10k-images-idx3-ubyte.gz\n"
          ],
          "name": "stdout"
        },
        {
          "output_type": "display_data",
          "data": {
            "application/vnd.jupyter.widget-view+json": {
              "model_id": "9a9e3958c2d740ceb4742f0620807b1f",
              "version_minor": 0,
              "version_major": 2
            },
            "text/plain": [
              "HBox(children=(IntProgress(value=1, bar_style='info', max=1), HTML(value='')))"
            ]
          },
          "metadata": {
            "tags": []
          }
        },
        {
          "output_type": "stream",
          "text": [
            "Extracting ./data/FashionMNIST/raw/t10k-images-idx3-ubyte.gz to ./data/FashionMNIST/raw\n",
            "Downloading http://fashion-mnist.s3-website.eu-central-1.amazonaws.com/t10k-labels-idx1-ubyte.gz to ./data/FashionMNIST/raw/t10k-labels-idx1-ubyte.gz\n",
            "\n",
            "\n"
          ],
          "name": "stdout"
        },
        {
          "output_type": "display_data",
          "data": {
            "application/vnd.jupyter.widget-view+json": {
              "model_id": "b430b2b2a4c54c8ebeca3b9058012094",
              "version_minor": 0,
              "version_major": 2
            },
            "text/plain": [
              "HBox(children=(IntProgress(value=1, bar_style='info', max=1), HTML(value='')))"
            ]
          },
          "metadata": {
            "tags": []
          }
        },
        {
          "output_type": "stream",
          "text": [
            "Extracting ./data/FashionMNIST/raw/t10k-labels-idx1-ubyte.gz to ./data/FashionMNIST/raw\n",
            "Processing...\n",
            "Done!\n"
          ],
          "name": "stdout"
        }
      ]
    },
    {
      "cell_type": "code",
      "metadata": {
        "id": "o1cfLaZegbTC",
        "colab_type": "code",
        "outputId": "a866c10a-3651-4b39-bcdd-996628168ca1",
        "colab": {
          "base_uri": "https://localhost:8080/",
          "height": 35
        }
      },
      "source": [
        "len(train_set.targets)"
      ],
      "execution_count": 3,
      "outputs": [
        {
          "output_type": "execute_result",
          "data": {
            "text/plain": [
              "60000"
            ]
          },
          "metadata": {
            "tags": []
          },
          "execution_count": 3
        }
      ]
    },
    {
      "cell_type": "code",
      "metadata": {
        "id": "hkEzV0yBQR6q",
        "colab_type": "code",
        "colab": {}
      },
      "source": [
        "\n",
        "class CNN(nn.Module):\n",
        "    \n",
        "    def __init__(self):\n",
        "        super(CNN, self).__init__()\n",
        "        \n",
        "        self.l1 = nn.Sequential(\n",
        "            nn.Conv2d(in_channels=1, out_channels=32, kernel_size=3, padding=1),\n",
        "            nn.ReLU(),\n",
        "            nn.BatchNorm2d(32),\n",
        "            nn.MaxPool2d(kernel_size=2, stride=2)\n",
        "        )\n",
        "        \n",
        "        self.l2 = nn.Sequential(\n",
        "            nn.Conv2d(in_channels=32, out_channels=64, kernel_size=3),\n",
        "            nn.ReLU(),\n",
        "            nn.BatchNorm2d(64),\n",
        "            nn.MaxPool2d(2)\n",
        "        )\n",
        "        \n",
        "        self.fulltconn1 = nn.Linear(64*6*6,600)\n",
        "        self.fulltconn2 = nn.Linear(600,120)\n",
        "        self.drop = nn.Dropout(0.25)\n",
        "        self.fulltconn3 = nn.Linear(120,10)\n",
        "        \n",
        "    def forward(self, x):\n",
        "        out = self.l1(x)\n",
        "        out = self.l2(out)\n",
        "        out = out.view(out.size(0), -1)\n",
        "        out = self.fulltconn1(out)\n",
        "        out = self.drop(out)\n",
        "        out = self.fulltconn2(out)\n",
        "        out = self.fulltconn3(out)\n",
        "        \n",
        "        return out\n"
      ],
      "execution_count": 0,
      "outputs": []
    },
    {
      "cell_type": "code",
      "metadata": {
        "id": "hcsTrFUkQVdP",
        "colab_type": "code",
        "outputId": "a0f06fc8-5aa7-4661-b07a-8ba5c3daaf3c",
        "colab": {
          "base_uri": "https://localhost:8080/",
          "height": 54
        }
      },
      "source": [
        "\n",
        "\n",
        "## test the model with 1 batch\n",
        "model = CNN()\n",
        "for images, labels in trainloader:\n",
        "    print(\"batch size:\", images.shape)\n",
        "    out = model(images)\n",
        "    print(out.shape)\n",
        "    break\n",
        "\n"
      ],
      "execution_count": 5,
      "outputs": [
        {
          "output_type": "stream",
          "text": [
            "batch size: torch.Size([100, 1, 28, 28])\n",
            "torch.Size([100, 10])\n"
          ],
          "name": "stdout"
        }
      ]
    },
    {
      "cell_type": "code",
      "metadata": {
        "id": "irmUVsETQYmB",
        "colab_type": "code",
        "colab": {}
      },
      "source": [
        "learning_rate = 0.001\n",
        "num_epochs = 5\n",
        "\n",
        "device = torch.device(\"cuda:0\" if torch.cuda.is_available() else \"cpu\")\n",
        "model = CNN()\n",
        "model = model.to(device)\n",
        "criterion = nn.CrossEntropyLoss()\n",
        "optimizer = torch.optim.Adam(model.parameters(), lr=learning_rate)\n",
        "\n",
        "## compute accuracy\n",
        "def get_accuracy(logit, target, batch_size):\n",
        "    ''' Obtain accuracy for training round '''\n",
        "    corrects = (torch.max(logit, 1)[1].view(target.size()).data == target.data).sum()\n",
        "    accuracy = 100.0 * corrects/batch_size\n",
        "    return accuracy.item()"
      ],
      "execution_count": 0,
      "outputs": []
    },
    {
      "cell_type": "code",
      "metadata": {
        "id": "quFCl2QKQd4S",
        "colab_type": "code",
        "outputId": "76adc499-88c2-4f78-b9c3-90d9a525f837",
        "colab": {
          "base_uri": "https://localhost:8080/",
          "height": 109
        }
      },
      "source": [
        "loss_history = []\n",
        "for epoch in range(num_epochs):\n",
        "    train_running_loss = 0.0\n",
        "    train_acc = 0.0\n",
        "\n",
        "    model = model.train()\n",
        "\n",
        "    ## training step\n",
        "    for i, (images, labels) in enumerate(trainloader):\n",
        "        \n",
        "        images = images.to(device)\n",
        "        labels = labels.to(device)\n",
        "\n",
        "        ## forward + backprop + loss\n",
        "        logits = model(images)\n",
        "        loss = criterion(logits, labels)\n",
        "        optimizer.zero_grad()\n",
        "        loss.backward()\n",
        "\n",
        "        ## update model params\n",
        "        optimizer.step()\n",
        "\n",
        "        train_running_loss += loss.detach().item()\n",
        "        train_acc += get_accuracy(logits, labels, BATCH_SIZE)\n",
        "    \n",
        "    model.eval()\n",
        "    print('Epoch: %d | Loss: %.4f | Train Accuracy: %.2f' \\\n",
        "          %(epoch, train_running_loss / i, train_acc/i))\n",
        "    loss_history.append(train_running_loss)"
      ],
      "execution_count": 9,
      "outputs": [
        {
          "output_type": "stream",
          "text": [
            "Epoch: 0 | Loss: 0.1848 | Train Accuracy: 93.56\n",
            "Epoch: 1 | Loss: 0.1704 | Train Accuracy: 94.16\n",
            "Epoch: 2 | Loss: 0.1558 | Train Accuracy: 94.69\n",
            "Epoch: 3 | Loss: 0.1495 | Train Accuracy: 94.87\n",
            "Epoch: 4 | Loss: 0.1352 | Train Accuracy: 95.35\n"
          ],
          "name": "stdout"
        }
      ]
    },
    {
      "cell_type": "code",
      "metadata": {
        "id": "qdKfA2gUo54U",
        "colab_type": "code",
        "outputId": "b8adc8c2-bcfd-400e-edb2-67f9346c18b8",
        "colab": {
          "base_uri": "https://localhost:8080/",
          "height": 35
        }
      },
      "source": [
        "predlist = []\n",
        "list_of_labels = []\n",
        "test_acc = 0.0\n",
        "for i, (images, labels) in enumerate(testloader, 0):\n",
        "    images = images.to(device)\n",
        "    \n",
        "    list_of_labels.append(labels)\n",
        "    test = Variable(images.view(100, 1, 28, 28))\n",
        "    outputs = model(test)\n",
        "    preds = torch.max(outputs, 1)[1].to(device)\n",
        "    predlist.append(preds)\n",
        "\n",
        "    labels = labels.to(device)\n",
        "    outputs = model(images)\n",
        "    test_acc += get_accuracy(outputs, labels, BATCH_SIZE)\n",
        "    \n",
        "print('Test Accuracy: %.2f'%( test_acc/i))"
      ],
      "execution_count": 14,
      "outputs": [
        {
          "output_type": "stream",
          "text": [
            "Test Accuracy: 90.88\n"
          ],
          "name": "stdout"
        }
      ]
    },
    {
      "cell_type": "code",
      "metadata": {
        "id": "v5rBUY6n1dGz",
        "colab_type": "code",
        "colab": {}
      },
      "source": [
        ""
      ],
      "execution_count": 0,
      "outputs": []
    },
    {
      "cell_type": "code",
      "metadata": {
        "id": "HVvS5Eg8z86N",
        "colab_type": "code",
        "colab": {}
      },
      "source": [
        "#print(list_of_labels)\n",
        "list_of_predictions = [predlist[i].tolist() for i in range(len(predlist))]\n",
        "\n",
        "new_list_of_labels = [list_of_labels[i].tolist() for i in range(len(list_of_labels))]\n",
        "\n",
        "list_of_predictions = list(chain.from_iterable(list_of_predictions))\n",
        "  \n",
        "new_list_of_labels = list(chain.from_iterable(new_list_of_labels))"
      ],
      "execution_count": 0,
      "outputs": []
    },
    {
      "cell_type": "code",
      "metadata": {
        "id": "VGee-ySBz_mW",
        "colab_type": "code",
        "outputId": "fb7dbb5d-6acf-4028-9693-acd69a348f50",
        "colab": {
          "base_uri": "https://localhost:8080/",
          "height": 627
        }
      },
      "source": [
        "matrix = confusion_matrix(new_list_of_labels, list_of_predictions)\n",
        "\n",
        "print(\"Classification report for CNN :\\n%s\\n\"\n",
        "      % (metrics.classification_report(new_list_of_labels, list_of_predictions)))\n",
        "\n",
        "print('\\n\\n\\n')\n",
        "print(matrix)\n",
        "#plt.plot(loss_history)"
      ],
      "execution_count": 23,
      "outputs": [
        {
          "output_type": "stream",
          "text": [
            "Classification report for CNN :\n",
            "              precision    recall  f1-score   support\n",
            "\n",
            "           0       0.81      0.89      0.85      1000\n",
            "           1       1.00      0.97      0.98      1000\n",
            "           2       0.90      0.78      0.83      1000\n",
            "           3       0.88      0.92      0.90      1000\n",
            "           4       0.85      0.84      0.84      1000\n",
            "           5       0.99      0.95      0.97      1000\n",
            "           6       0.71      0.72      0.72      1000\n",
            "           7       0.92      0.99      0.95      1000\n",
            "           8       0.98      0.99      0.98      1000\n",
            "           9       0.98      0.95      0.96      1000\n",
            "\n",
            "    accuracy                           0.90     10000\n",
            "   macro avg       0.90      0.90      0.90     10000\n",
            "weighted avg       0.90      0.90      0.90     10000\n",
            "\n",
            "\n",
            "\n",
            "\n",
            "\n",
            "\n",
            "[[893   0   9  20   1   1  72   1   3   0]\n",
            " [  1 973   3  18   2   0   1   0   2   0]\n",
            " [ 32   2 776  11  69   0 109   0   1   0]\n",
            " [ 27   0   5 921  12   1  32   0   2   0]\n",
            " [  4   1  41  39 837   1  75   0   2   0]\n",
            " [  0   0   0   0   0 949   0  41   0  10]\n",
            " [145   0  29  27  64   0 724   0  11   0]\n",
            " [  0   0   0   0   0   0   0 987   0  13]\n",
            " [  2   1   0   5   1   2   2   1 986   0]\n",
            " [  0   0   0   0   0   3   0  45   1 951]]\n"
          ],
          "name": "stdout"
        }
      ]
    },
    {
      "cell_type": "code",
      "metadata": {
        "id": "M0AfXQP57iS1",
        "colab_type": "code",
        "colab": {}
      },
      "source": [
        "def output_label(label):\n",
        "    output_map = {\n",
        "                 0: \"T-shirt/Top\",\n",
        "                 1: \"Trouser\",\n",
        "                 2: \"Pullover\",\n",
        "                 3: \"Dress\",\n",
        "                 4: \"Coat\", \n",
        "                 5: \"Sandal\", \n",
        "                 6: \"Shirt\",\n",
        "                 7: \"Sneaker\",\n",
        "                 8: \"Bag\",\n",
        "                 9: \"Ankle Boot\"\n",
        "                 }\n",
        "    input = (label.item() if type(label) == torch.Tensor else label)\n",
        "    return output_map[input]"
      ],
      "execution_count": 0,
      "outputs": []
    },
    {
      "cell_type": "code",
      "metadata": {
        "id": "0IPUiBhg7UTn",
        "colab_type": "code",
        "outputId": "ef44ba40-5ba7-4dff-b458-3ea5208c07a2",
        "colab": {
          "base_uri": "https://localhost:8080/",
          "height": 202
        }
      },
      "source": [
        "#y = []\n",
        "class_correct = [0. for _ in range(10)]\n",
        "total_correct = [0. for _ in range(10)]\n",
        "\n",
        "with torch.no_grad():\n",
        "    for images, labels in testloader:\n",
        "        images, labels = images.to(device), labels.to(device)\n",
        "        test = Variable(images)\n",
        "        outputs = model(test)\n",
        "        predicted = torch.max(outputs, 1)[1]\n",
        "        c = (predicted == labels).squeeze()\n",
        "        \n",
        "        for i in range(100):\n",
        "            label = labels[i]\n",
        "            class_correct[label] += c[i].item()\n",
        "            total_correct[label] += 1\n",
        "        \n",
        "for i in range(10):\n",
        "    print(\"Accuracy of {}: {:.2f}%\".format(output_label(i), class_correct[i] * 100 / total_correct[i]))\n",
        "#    y.append(class_correct[i] * 100 / total_correct[i])\n",
        "#plt.hist(10, y)\n",
        "#plt.show()"
      ],
      "execution_count": 24,
      "outputs": [
        {
          "output_type": "stream",
          "text": [
            "Accuracy of T-shirt/Top: 89.30%\n",
            "Accuracy of Trouser: 97.30%\n",
            "Accuracy of Pullover: 77.60%\n",
            "Accuracy of Dress: 92.10%\n",
            "Accuracy of Coat: 83.70%\n",
            "Accuracy of Sandal: 94.90%\n",
            "Accuracy of Shirt: 72.40%\n",
            "Accuracy of Sneaker: 98.70%\n",
            "Accuracy of Bag: 98.60%\n",
            "Accuracy of Ankle Boot: 95.10%\n"
          ],
          "name": "stdout"
        }
      ]
    },
    {
      "cell_type": "markdown",
      "metadata": {
        "id": "6Hj2PX_VZ2Sn",
        "colab_type": "text"
      },
      "source": [
        "A lower learning rate, a higher number of epochs  and a high batch_size increased testing accuracy. Conversely, a higher learning rate caused a severly decreased performance, both on the training score as well as on the test score.\n",
        "\n",
        "A lower batch_size indicated a greater tendency for overfitting than the reverse. \n",
        "\n",
        "---\n",
        "\n"
      ]
    },
    {
      "cell_type": "markdown",
      "metadata": {
        "id": "gMoTz4bVUrgv",
        "colab_type": "text"
      },
      "source": [
        "BATCH_SIZE variation\n",
        "BATCH_SIZE = 50\n",
        "\n",
        "lr = 0.001. Checks which is best for that value \n",
        "and 10 epochs. Those yielded the best test \n",
        "accuracy.\n",
        "\n",
        "Epoch: 0 | Loss: 0.4028 | Train Accuracy: 86.00\n",
        "\n",
        "Epoch: 1 | Loss: 0.2813 | Train Accuracy: 89.99\n",
        "\n",
        "Epoch: 2 | Loss: 0.2465 | Train Accuracy: 91.46\n",
        "\n",
        "Epoch: 3 | Loss: 0.2223 | Train Accuracy: 92.25\n",
        "\n",
        "Epoch: 4 | Loss: 0.2027 | Train Accuracy: 92.88\n",
        "\n",
        "Epoch: 5 | Loss: 0.1844 | Train Accuracy: 93.42\n",
        "\n",
        "Epoch: 6 | Loss: 0.1697 | Train Accuracy: 94.04\n",
        "\n",
        "Epoch: 7 | Loss: 0.1528 | Train Accuracy: 94.61\n",
        "\n",
        "Epoch: 8 | Loss: 0.1446 | Train Accuracy: 94.96\n",
        "\n",
        "Epoch: 9 | Loss: 0.1321 | Train Accuracy: 95.34\n",
        "\n",
        "Test Accuracy: 88.41"
      ]
    },
    {
      "cell_type": "code",
      "metadata": {
        "id": "bVHFe6bSf-FN",
        "colab_type": "code",
        "colab": {}
      },
      "source": [
        "el"
      ],
      "execution_count": 0,
      "outputs": []
    },
    {
      "cell_type": "markdown",
      "metadata": {
        "id": "xDjiOB09MePM",
        "colab_type": "text"
      },
      "source": [
        "num_epochs variation"
      ]
    },
    {
      "cell_type": "markdown",
      "metadata": {
        "id": "GM1Ply9ABDHe",
        "colab_type": "text"
      },
      "source": [
        "RUN 5: lr = 0.01, num_epochs = 10 BATCH_SIZE = 100\n",
        "\n",
        "Epoch: 0 | Loss: 1.5197 | Train Accuracy: 79.78\n",
        "\n",
        "Epoch: 1 | Loss: 0.3966 | Train Accuracy: 86.45\n",
        "\n",
        "Epoch: 2 | Loss: 0.3463 | Train Accuracy: 87.94\n",
        "\n",
        "Epoch: 3 | Loss: 0.3027 | Train Accuracy: 89.24\n",
        "\n",
        "Epoch: 4 | Loss: 0.2829 | Train Accuracy: 90.12\n",
        "\n",
        "Epoch: 5 | Loss: 0.2786 | Train Accuracy: 90.23\n",
        "\n",
        "Epoch: 6 | Loss: 0.2769 | Train Accuracy: 90.40\n",
        "\n",
        "Epoch: 7 | Loss: 0.2888 | Train Accuracy: 89.97\n",
        "\n",
        "Epoch: 8 | Loss: 0.2878 | Train Accuracy: 90.18\n",
        "\n",
        "Epoch: 9 | Loss: 0.3310 | Train Accuracy: 89.03\n",
        "\n",
        "Test Accuracy: 87.74"
      ]
    },
    {
      "cell_type": "markdown",
      "metadata": {
        "id": "isX0QTLszOwc",
        "colab_type": "text"
      },
      "source": [
        "RUN 4:\n",
        "lr = 0.001 num_epochs = 10 BATCH_SIZE = 100\n",
        "\n",
        "Epoch: 0 | Loss: 0.4013 | Train Accuracy: 86.15\n",
        "\n",
        "Epoch: 1 | Loss: 0.2675 | Train Accuracy: 90.59\n",
        "\n",
        "Epoch: 2 | Loss: 0.2333 | Train Accuracy: 91.76\n",
        "\n",
        "Epoch: 3 | Loss: 0.2090 | Train Accuracy: 92.78\n",
        "\n",
        "Epoch: 4 | Loss: 0.1944 | Train Accuracy: 93.22\n",
        "\n",
        "Epoch: 5 | Loss: 0.1738 | Train Accuracy: 93.95\n",
        "\n",
        "Epoch: 6 | Loss: 0.1662 | Train Accuracy: 94.23\n",
        "\n",
        "Epoch: 7 | Loss: 0.1541 | Train Accuracy: 94.68\n",
        "\n",
        "Epoch: 8 | Loss: 0.1459 | Train Accuracy: 94.97\n",
        "\n",
        "Epoch: 9 | Loss: 0.1305 | Train Accuracy: 95.52\n",
        "\n",
        "Test accuracy: 90.30\n"
      ]
    },
    {
      "cell_type": "markdown",
      "metadata": {
        "id": "eefgzbjazJOC",
        "colab_type": "text"
      },
      "source": [
        "lr variation:"
      ]
    },
    {
      "cell_type": "markdown",
      "metadata": {
        "id": "wijBx8tKzBkX",
        "colab_type": "text"
      },
      "source": [
        "RUN 3:\n",
        "\n",
        "lr = 0.1, num_epochs = 5 BATCH_SIZE = 100\n",
        "\n",
        "Epoch: 0 | Loss: 281.7030 | Train Accuracy: 67.15\n",
        "\n",
        "Epoch: 1 | Loss: 1.5764 | Train Accuracy: 75.07\n",
        "\n",
        "Epoch: 2 | Loss: 72807.0001 | Train Accuracy: 66.08\n",
        "\n",
        "Epoch: 3 | Loss: 335.9824 | Train Accuracy: 69.66\n",
        "\n",
        "Epoch: 4 | Loss: 190.5280 | Train Accuracy: 72.44\n",
        "\n",
        "Test Accuracy: 73.97\n"
      ]
    },
    {
      "cell_type": "markdown",
      "metadata": {
        "id": "Un-pDDeRuIN0",
        "colab_type": "text"
      },
      "source": [
        "RUN 2: LR = 0.01, num_epochs = 5 BATCH_SIZE = 100\n",
        "\n",
        "Epoch: 0 | Loss: 1.8448 | Train Accuracy: 80.34\n",
        "\n",
        "Epoch: 1 | Loss: 0.3766 | Train Accuracy: 87.06\n",
        "\n",
        "Epoch: 2 | Loss: 0.3348 | Train Accuracy: 88.48\n",
        "\n",
        "Epoch: 3 | Loss: 0.2872 | Train Accuracy: 89.91\n",
        "\n",
        "Epoch: 4 | Loss: 0.2661 | Train Accuracy: 90.67\n",
        "\n",
        "Test Accuracy: 84.34\n",
        "\n",
        "Training is overfitting"
      ]
    },
    {
      "cell_type": "markdown",
      "metadata": {
        "id": "FNNxPjkdi1Fh",
        "colab_type": "text"
      },
      "source": [
        "RUN 1: LR = 0.001 num_epochs = 5 BATCH_SIZE = 100\n",
        "\n",
        "Epoch: 0 | Loss: 0.3998 | Train Accuracy: 86.49\n",
        "\n",
        "Epoch: 1 | Loss: 0.2717 | Train Accuracy: 90.48\n",
        "\n",
        "Epoch: 2 | Loss: 0.2406 | Train Accuracy: 91.62\n",
        "\n",
        "Epoch: 3 | Loss: 0.2146 | Train Accuracy: 92.56\n",
        "\n",
        "Epoch: 4 | Loss: 0.1985 | Train Accuracy: 92.98\n",
        "\n",
        "Test Accuracy: 90.03"
      ]
    }
  ]
}